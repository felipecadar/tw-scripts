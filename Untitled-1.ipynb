{
 "cells": [
  {
   "cell_type": "code",
   "execution_count": 2,
   "metadata": {},
   "outputs": [],
   "source": [
    "import pandas as pd\n",
    "import numpy as np\n",
    "import os"
   ]
  },
  {
   "cell_type": "code",
   "execution_count": 3,
   "metadata": {},
   "outputs": [],
   "source": [
    "cols = [\"Nivel\",\n",
    "        \"Ed. Principal\", \n",
    "        \"Quartel\",\n",
    "        \"Estabulo\",\n",
    "        \"Oficina\",\n",
    "        \"Igreja\",\n",
    "        \"P. Igreja\",\n",
    "        \"Torre\",\n",
    "        \"Academia\",\n",
    "        \"Ferreiro\",\n",
    "        \"Praca\",\n",
    "        \"Estatua\",\n",
    "        \"Mercado\",\n",
    "        \"Bosque\",\n",
    "        \"Poco\",\n",
    "        \"Mina\",\n",
    "        \"Fazenda\",\n",
    "        \"Armazem\",\n",
    "        \"Esconderijo\",\n",
    "        \"Muralha\",\n",
    "        ]"
   ]
  },
  {
   "cell_type": "code",
   "execution_count": 35,
   "metadata": {},
   "outputs": [],
   "source": [
    "def show(tb):\n",
    "    for i in range(tb.shape[0]):\n",
    "        print(f\"[{i}]\\t\", end=\"\")\n",
    "        for j in range(tb.shape[1]):\n",
    "            print(f\"{tb[i,j]},\\t\", end=\"\")\n",
    "        print()\n",
    "\n",
    "def fix(tb_o):\n",
    "    tb = tb_o.copy()\n",
    "    for j in range(tb.shape[1]):\n",
    "        one = 0\n",
    "        for i in range(tb.shape[0]):\n",
    "            if tb[i,j] > 0:\n",
    "                one = True\n",
    "            if one:\n",
    "                tb[i,j] = 1\n",
    "            \n",
    "    return tb\n"
   ]
  },
  {
   "cell_type": "code",
   "execution_count": 24,
   "metadata": {},
   "outputs": [],
   "source": [
    "if not os.path.isfile(\"config/br114/points1.csv\") or os.path.isfile(\"config/br114/points2.csv\"):\n",
    "    tb1, tb2 = pd.read_html(\"https://help.tribalwars.com.br/wiki/Tabela_de_pontos\")\n",
    "\n",
    "    tb1.columns = cols\n",
    "    tb1 = tb1.drop(0)\n",
    "    np_table1 = tb1.drop(columns=['Nivel']).values\n",
    "\n",
    "    tb2.columns = cols\n",
    "    tb2 = tb2.drop(0)\n",
    "    np_table2 = tb2.drop(columns=['Nivel']).values\n",
    "\n",
    "    np.savetxt(\"config/br114/points1.csv\", np_table1)\n",
    "    np.savetxt(\"config/br114/points2.csv\", np_table2)\n",
    "\n",
    "else:\n",
    "\n",
    "    np_table1 = np.loadtxt(\"config/br114/points1.csv\")\n",
    "    np_table2 = np.loadtxt(\"config/br114/points2.csv\")\n"
   ]
  },
  {
   "cell_type": "code",
   "execution_count": 40,
   "metadata": {},
   "outputs": [
    {
     "ename": "IndexError",
     "evalue": "only integers, slices (`:`), ellipsis (`...`), numpy.newaxis (`None`) and integer or boolean arrays are valid indices",
     "output_type": "error",
     "traceback": [
      "\u001b[0;31m---------------------------------------------------------------------------\u001b[0m",
      "\u001b[0;31mIndexError\u001b[0m                                Traceback (most recent call last)",
      "\u001b[1;32m/Users/cadar/Documents/Github/tw-scripts/Untitled-1.ipynb Cell 5'\u001b[0m in \u001b[0;36m<cell line: 14>\u001b[0;34m()\u001b[0m\n\u001b[1;32m     <a href='vscode-notebook-cell:/Users/cadar/Documents/Github/tw-scripts/Untitled-1.ipynb#ch0000004?line=9'>10</a>\u001b[0m         total\u001b[39m+\u001b[39m\u001b[39m=\u001b[39mnp_table2[i,j]\n\u001b[1;32m     <a href='vscode-notebook-cell:/Users/cadar/Documents/Github/tw-scripts/Untitled-1.ipynb#ch0000004?line=12'>13</a>\u001b[0m initial \u001b[39m=\u001b[39m np\u001b[39m.\u001b[39mzeros(\u001b[39mlen\u001b[39m(cols))\n\u001b[0;32m---> <a href='vscode-notebook-cell:/Users/cadar/Documents/Github/tw-scripts/Untitled-1.ipynb#ch0000004?line=13'>14</a>\u001b[0m \u001b[39mprint\u001b[39m(\u001b[39meval\u001b[39;49m(initial))    \n\u001b[1;32m     <a href='vscode-notebook-cell:/Users/cadar/Documents/Github/tw-scripts/Untitled-1.ipynb#ch0000004?line=16'>17</a>\u001b[0m \u001b[39mdef\u001b[39;00m \u001b[39mbacktrack\u001b[39m(p, t, sol):\n\u001b[1;32m     <a href='vscode-notebook-cell:/Users/cadar/Documents/Github/tw-scripts/Untitled-1.ipynb#ch0000004?line=17'>18</a>\u001b[0m     \u001b[39mif\u001b[39;00m sol\u001b[39m*\u001b[39mnp_table2 \u001b[39m==\u001b[39m t:\n",
      "\u001b[1;32m/Users/cadar/Documents/Github/tw-scripts/Untitled-1.ipynb Cell 5'\u001b[0m in \u001b[0;36meval\u001b[0;34m(levels)\u001b[0m\n\u001b[1;32m      <a href='vscode-notebook-cell:/Users/cadar/Documents/Github/tw-scripts/Untitled-1.ipynb#ch0000004?line=7'>8</a>\u001b[0m total \u001b[39m=\u001b[39m \u001b[39m0\u001b[39m\n\u001b[1;32m      <a href='vscode-notebook-cell:/Users/cadar/Documents/Github/tw-scripts/Untitled-1.ipynb#ch0000004?line=8'>9</a>\u001b[0m \u001b[39mfor\u001b[39;00m j, i \u001b[39min\u001b[39;00m \u001b[39menumerate\u001b[39m(levels):\n\u001b[0;32m---> <a href='vscode-notebook-cell:/Users/cadar/Documents/Github/tw-scripts/Untitled-1.ipynb#ch0000004?line=9'>10</a>\u001b[0m     total\u001b[39m+\u001b[39m\u001b[39m=\u001b[39mnp_table2[i,j]\n",
      "\u001b[0;31mIndexError\u001b[0m: only integers, slices (`:`), ellipsis (`...`), numpy.newaxis (`None`) and integer or boolean arrays are valid indices"
     ]
    }
   ],
   "source": [
    "target = 916\n",
    "impossible_levels = (np_table2.astype(int) == 0)\n",
    "impossible_levels = (np_table2.astype(int) >= target)\n",
    "impossible_levels = fix(impossible_levels).astype(int)\n",
    "possible_levels = 1 - impossible_levels\n",
    "\n",
    "def eval(levels):\n",
    "    total = 0\n",
    "    for j, i in enumerate(levels):\n",
    "        total+=np_table2[i,j]\n",
    "        \n",
    "\n",
    "initial = np.zeros(len(cols))\n",
    "print(eval(initial))    \n",
    "\n",
    "\n",
    "def backtrack(p, t, sol):\n",
    "    if sol*np_table2 == t:\n",
    "        return sol\n",
    "    \n",
    "    for j in range(len(cols)):\n",
    "        pass\n",
    "\n",
    "\n"
   ]
  },
  {
   "cell_type": "code",
   "execution_count": null,
   "metadata": {},
   "outputs": [],
   "source": []
  }
 ],
 "metadata": {
  "kernelspec": {
   "display_name": "Python 3.10.5 ('web')",
   "language": "python",
   "name": "python3"
  },
  "language_info": {
   "codemirror_mode": {
    "name": "ipython",
    "version": 3
   },
   "file_extension": ".py",
   "mimetype": "text/x-python",
   "name": "python",
   "nbconvert_exporter": "python",
   "pygments_lexer": "ipython3",
   "version": "3.10.5"
  },
  "orig_nbformat": 4,
  "vscode": {
   "interpreter": {
    "hash": "7574671dc8dac05cdb2fd55ba00a9140d4381512f6ca6d3c24e5050ec034e3ba"
   }
  }
 },
 "nbformat": 4,
 "nbformat_minor": 2
}
